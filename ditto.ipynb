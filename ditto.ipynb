{
 "cells": [
  {
   "cell_type": "code",
   "execution_count": 1,
   "id": "32679b4a",
   "metadata": {},
   "outputs": [],
   "source": [
    "%load_ext autoreload\n",
    "\n",
    "from ditto import Ditto\n",
    "\n",
    "import numpy as np\n",
    "\n",
    "from jupyterthemes import jtplot\n",
    "jtplot.style(theme='monokai', context='talk', fscale=1.4, spines=False, gridlines='--')"
   ]
  },
  {
   "cell_type": "markdown",
   "id": "90ba8216",
   "metadata": {},
   "source": [
    "# Load Data"
   ]
  },
  {
   "cell_type": "code",
   "execution_count": 2,
   "id": "e668054a",
   "metadata": {},
   "outputs": [],
   "source": [
    "D = np.array([\n",
    "    ['a', 'b', 'c', 'c', 'c', 'a'],\n",
    "    ['d', 'h', 'e', 'h', 'e', 'd']\n",
    "])"
   ]
  },
  {
   "cell_type": "markdown",
   "id": "9a5f9362",
   "metadata": {},
   "source": [
    "# Ditto"
   ]
  },
  {
   "cell_type": "code",
   "execution_count": 26,
   "id": "e102111c",
   "metadata": {
    "scrolled": true
   },
   "outputs": [
    {
     "name": "stdout",
     "output_type": "stream",
     "text": [
      "\n",
      "*** Generating and sorting candidates ***\n",
      "*** Iterating through potential candidates ***\n",
      "\tCandidate being investigated = c0c0\n",
      "\tCandidate being investigated = a0a0\n",
      "\tCandidate being investigated = h1d1\n",
      "\tCandidate being investigated = h1a0\n",
      "\tCandidate being investigated = e1h1\n",
      "\tCandidate being investigated = e1e1\n",
      "\tCandidate being investigated = e1d1\n",
      "\tCandidate being investigated = e1a0\n",
      "\tCandidate being investigated = d1h1\n",
      "\tCandidate being investigated = d1e1\n",
      "\tCandidate being investigated = d1d1\n",
      "\tCandidate being investigated = d1a0\n",
      "-> Retained candidate = 'd1a0'\n",
      "*** Pruning ***\n",
      "\tCT before pruning = [a0, b0, c0, d1, e1, h1, d1a0]\n",
      "\tPatterns which had their usage decreased [d1, a0]\n",
      "\tCT after pruning = [a0, b0, c0, d1, e1, h1, d1a0]\n",
      "*** Variations ***\n",
      "\tVariations on pattern = d1a0\n",
      "No variations: pattern size is 1.\n",
      "\n",
      "*** Generating and sorting new set of candidates ***\n",
      "*** Iterating through potential candidates ***\n",
      "\tCandidate being investigated = c0c0\n",
      "\tCandidate being investigated = e1e1\n",
      "\tCandidate being investigated = e1h1\n",
      "\tCandidate being investigated = h1h1\n",
      "\tCandidate being investigated = h1e1\n",
      "-> Retained candidate = 'h1e1'\n",
      "*** Pruning ***\n",
      "\tCT before pruning = [a0, b0, c0, d1, e1, h1, d1a0, h1e1]\n",
      "\tPatterns which had their usage decreased [h1, e1]\n",
      "\tCT after pruning = [a0, b0, c0, d1, e1, h1, d1a0, h1e1]\n",
      "*** Variations ***\n",
      "\tVariations on pattern = h1e1\n",
      "No variants of this pattern in the data.\n",
      "\n",
      "*** Generating and sorting new set of candidates ***\n",
      "*** Iterating through potential candidates ***\n",
      "\tCandidate being investigated = c0c0\n",
      "\tCandidate being investigated = b0b0\n",
      "\tCandidate being investigated = h1e1h1e1\n",
      "\tCandidate being investigated = h1e1d1a0\n",
      "\tCandidate being investigated = d1a0d1a0\n",
      "\tCandidate being investigated = d1a0h1e1\n",
      "\tCandidate being investigated = c0b0\n",
      "\tCandidate being investigated = b0c0\n",
      "\tCandidate being investigated = h1e1c0\n",
      "\tCandidate being investigated = c0d1a0\n",
      "\tCandidate being investigated = d1a0c0\n",
      "\tCandidate being investigated = c0h1e1\n",
      "\tCandidate being investigated = h1e1b0\n",
      "\tCandidate being investigated = d1a0b0\n",
      "\tCandidate being investigated = b0h1e1\n",
      "\tCandidate being investigated = b0d1a0\n",
      "\n",
      "No more gain in the compression with the current set of candidates.\n"
     ]
    }
   ],
   "source": [
    "%autoreload\n",
    "\n",
    "ditto = Ditto(D)\n",
    "ditto.process()"
   ]
  },
  {
   "cell_type": "code",
   "execution_count": 4,
   "id": "b3b9cef9",
   "metadata": {},
   "outputs": [],
   "source": [
    "%autoreload\n",
    "\n",
    "C, CT = ditto.get_results()"
   ]
  },
  {
   "cell_type": "code",
   "execution_count": 5,
   "id": "858b1361",
   "metadata": {},
   "outputs": [
    {
     "data": {
      "text/html": [
       "<div>\n",
       "<style scoped>\n",
       "    .dataframe tbody tr th:only-of-type {\n",
       "        vertical-align: middle;\n",
       "    }\n",
       "\n",
       "    .dataframe tbody tr th {\n",
       "        vertical-align: top;\n",
       "    }\n",
       "\n",
       "    .dataframe thead th {\n",
       "        text-align: right;\n",
       "    }\n",
       "</style>\n",
       "<table border=\"1\" class=\"dataframe\">\n",
       "  <thead>\n",
       "    <tr style=\"text-align: right;\">\n",
       "      <th></th>\n",
       "      <th>Pattern</th>\n",
       "      <th>Usage</th>\n",
       "      <th>Gaps</th>\n",
       "    </tr>\n",
       "  </thead>\n",
       "  <tbody>\n",
       "    <tr>\n",
       "      <th>0</th>\n",
       "      <td>d1a0</td>\n",
       "      <td>2</td>\n",
       "      <td>0</td>\n",
       "    </tr>\n",
       "    <tr>\n",
       "      <th>1</th>\n",
       "      <td>h1e1</td>\n",
       "      <td>2</td>\n",
       "      <td>0</td>\n",
       "    </tr>\n",
       "    <tr>\n",
       "      <th>2</th>\n",
       "      <td>a0</td>\n",
       "      <td>0</td>\n",
       "      <td>0</td>\n",
       "    </tr>\n",
       "    <tr>\n",
       "      <th>3</th>\n",
       "      <td>b0</td>\n",
       "      <td>1</td>\n",
       "      <td>0</td>\n",
       "    </tr>\n",
       "    <tr>\n",
       "      <th>4</th>\n",
       "      <td>c0</td>\n",
       "      <td>3</td>\n",
       "      <td>0</td>\n",
       "    </tr>\n",
       "    <tr>\n",
       "      <th>5</th>\n",
       "      <td>d1</td>\n",
       "      <td>0</td>\n",
       "      <td>0</td>\n",
       "    </tr>\n",
       "    <tr>\n",
       "      <th>6</th>\n",
       "      <td>e1</td>\n",
       "      <td>0</td>\n",
       "      <td>0</td>\n",
       "    </tr>\n",
       "    <tr>\n",
       "      <th>7</th>\n",
       "      <td>h1</td>\n",
       "      <td>0</td>\n",
       "      <td>0</td>\n",
       "    </tr>\n",
       "  </tbody>\n",
       "</table>\n",
       "</div>"
      ],
      "text/plain": [
       "  Pattern  Usage  Gaps\n",
       "0    d1a0      2     0\n",
       "1    h1e1      2     0\n",
       "2      a0      0     0\n",
       "3      b0      1     0\n",
       "4      c0      3     0\n",
       "5      d1      0     0\n",
       "6      e1      0     0\n",
       "7      h1      0     0"
      ]
     },
     "execution_count": 5,
     "metadata": {},
     "output_type": "execute_result"
    }
   ],
   "source": [
    "CT"
   ]
  },
  {
   "cell_type": "code",
   "execution_count": 11,
   "id": "14696872",
   "metadata": {},
   "outputs": [
    {
     "data": {
      "text/plain": [
       "array([['6_a', '1_b', '2_c', '2_c', '2_c', '6_a'],\n",
       "       ['6_d', '7_h', '7_e', '7_h', '7_e', '6_d']], dtype='<U6')"
      ]
     },
     "execution_count": 11,
     "metadata": {},
     "output_type": "execute_result"
    }
   ],
   "source": [
    "C"
   ]
  },
  {
   "cell_type": "code",
   "execution_count": 20,
   "id": "1c654d88",
   "metadata": {},
   "outputs": [
    {
     "data": {
      "image/png": "[encoded data removed]",
      "text/plain": [
       "<Figure size 1080x72 with 1 Axes>"
      ]
     },
     "metadata": {},
     "output_type": "display_data"
    }
   ],
   "source": [
    "%autoreload\n",
    "\n",
    "ditto.show_cover(id_pattern=1, letters=True)"
   ]
  },
  {
   "cell_type": "code",
   "execution_count": null,
   "id": "48d0b487",
   "metadata": {},
   "outputs": [],
   "source": []
  }
 ],
 "metadata": {
  "kernelspec": {
   "display_name": "Python 3",
   "language": "python",
   "name": "python3"
  },
  "language_info": {
   "codemirror_mode": {
    "name": "ipython",
    "version": 3
   },
   "file_extension": ".py",
   "mimetype": "text/x-python",
   "name": "python",
   "nbconvert_exporter": "python",
   "pygments_lexer": "ipython3",
   "version": "3.8.3"
  }
 },
 "nbformat": 4,
 "nbformat_minor": 5
}
